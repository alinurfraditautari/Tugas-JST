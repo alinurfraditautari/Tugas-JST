{
  "nbformat": 4,
  "nbformat_minor": 0,
  "metadata": {
    "colab": {
      "name": "Regresi_PredictCarValue.ipynb",
      "provenance": []
    },
    "kernelspec": {
      "name": "python3",
      "display_name": "Python 3"
    },
    "language_info": {
      "name": "python"
    }
  },
  "cells": [
    {
      "cell_type": "code",
      "metadata": {
        "colab": {
          "base_uri": "https://localhost:8080/"
        },
        "id": "7z_eBP5pmeGZ",
        "outputId": "67535b1d-8249-4892-9f4e-6c50154f8473"
      },
      "source": [
        "from google.colab import drive\n",
        "drive.mount(\"/content/drive\")"
      ],
      "execution_count": 30,
      "outputs": [
        {
          "output_type": "stream",
          "text": [
            "Drive already mounted at /content/drive; to attempt to forcibly remount, call drive.mount(\"/content/drive\", force_remount=True).\n"
          ],
          "name": "stdout"
        }
      ]
    },
    {
      "cell_type": "code",
      "metadata": {
        "colab": {
          "base_uri": "https://localhost:8080/",
          "height": 309
        },
        "id": "qXpmVa61px0c",
        "outputId": "3182ee0a-3a48-4ce6-a612-81f13e230475"
      },
      "source": [
        "#Import Libraries\n",
        "import pandas as pd\n",
        "import numpy as np\n",
        "import matplotlib.pyplot as plt\n",
        "from sklearn.model_selection import train_test_split\n",
        "from sklearn.linear_model import LinearRegression\n",
        "from sklearn.metrics import r2_score,mean_squared_error\n",
        "from keras.layers import Dense\n",
        "import pickle\n",
        "import json\n",
        "%matplotlib inline\n",
        "df = pd.read_csv('/content/drive/MyDrive/TugasJST/MLP/Regresi/data.csv') # Importing the dataset\n",
        "df.sample(5) #previewing dataset randomly"
      ],
      "execution_count": 31,
      "outputs": [
        {
          "output_type": "execute_result",
          "data": {
            "text/html": [
              "<div>\n",
              "<style scoped>\n",
              "    .dataframe tbody tr th:only-of-type {\n",
              "        vertical-align: middle;\n",
              "    }\n",
              "\n",
              "    .dataframe tbody tr th {\n",
              "        vertical-align: top;\n",
              "    }\n",
              "\n",
              "    .dataframe thead th {\n",
              "        text-align: right;\n",
              "    }\n",
              "</style>\n",
              "<table border=\"1\" class=\"dataframe\">\n",
              "  <thead>\n",
              "    <tr style=\"text-align: right;\">\n",
              "      <th></th>\n",
              "      <th>Make</th>\n",
              "      <th>Model</th>\n",
              "      <th>Year</th>\n",
              "      <th>Engine Fuel Type</th>\n",
              "      <th>Engine HP</th>\n",
              "      <th>Engine Cylinders</th>\n",
              "      <th>Transmission Type</th>\n",
              "      <th>Driven_Wheels</th>\n",
              "      <th>Number of Doors</th>\n",
              "      <th>Market Category</th>\n",
              "      <th>Vehicle Size</th>\n",
              "      <th>Vehicle Style</th>\n",
              "      <th>highway MPG</th>\n",
              "      <th>city mpg</th>\n",
              "      <th>Popularity</th>\n",
              "      <th>MSRP</th>\n",
              "    </tr>\n",
              "  </thead>\n",
              "  <tbody>\n",
              "    <tr>\n",
              "      <th>6424</th>\n",
              "      <td>Acura</td>\n",
              "      <td>Legend</td>\n",
              "      <td>1995.0</td>\n",
              "      <td>regular unleaded</td>\n",
              "      <td>200.0</td>\n",
              "      <td>6.0</td>\n",
              "      <td>AUTOMATIC</td>\n",
              "      <td>front wheel drive</td>\n",
              "      <td>4.0</td>\n",
              "      <td>Luxury</td>\n",
              "      <td>Midsize</td>\n",
              "      <td>Sedan</td>\n",
              "      <td>22.0</td>\n",
              "      <td>17.0</td>\n",
              "      <td>204.0</td>\n",
              "      <td>2356.0</td>\n",
              "    </tr>\n",
              "    <tr>\n",
              "      <th>2378</th>\n",
              "      <td>Porsche,Cayenne,2016,diesel,240,6,AUTOMATIC,al...</td>\n",
              "      <td>NaN</td>\n",
              "      <td>NaN</td>\n",
              "      <td>NaN</td>\n",
              "      <td>NaN</td>\n",
              "      <td>NaN</td>\n",
              "      <td>NaN</td>\n",
              "      <td>NaN</td>\n",
              "      <td>NaN</td>\n",
              "      <td>NaN</td>\n",
              "      <td>NaN</td>\n",
              "      <td>NaN</td>\n",
              "      <td>NaN</td>\n",
              "      <td>NaN</td>\n",
              "      <td>NaN</td>\n",
              "      <td>NaN</td>\n",
              "    </tr>\n",
              "    <tr>\n",
              "      <th>11299</th>\n",
              "      <td>Hyundai</td>\n",
              "      <td>Veracruz</td>\n",
              "      <td>2011.0</td>\n",
              "      <td>regular unleaded</td>\n",
              "      <td>260.0</td>\n",
              "      <td>6.0</td>\n",
              "      <td>AUTOMATIC</td>\n",
              "      <td>front wheel drive</td>\n",
              "      <td>4.0</td>\n",
              "      <td>Crossover</td>\n",
              "      <td>Midsize</td>\n",
              "      <td>4dr SUV</td>\n",
              "      <td>22.0</td>\n",
              "      <td>17.0</td>\n",
              "      <td>1439.0</td>\n",
              "      <td>28345.0</td>\n",
              "    </tr>\n",
              "    <tr>\n",
              "      <th>8265</th>\n",
              "      <td>Land Rover,Range Rover Evoque,2017,premium unl...</td>\n",
              "      <td>NaN</td>\n",
              "      <td>NaN</td>\n",
              "      <td>NaN</td>\n",
              "      <td>NaN</td>\n",
              "      <td>NaN</td>\n",
              "      <td>NaN</td>\n",
              "      <td>NaN</td>\n",
              "      <td>NaN</td>\n",
              "      <td>NaN</td>\n",
              "      <td>NaN</td>\n",
              "      <td>NaN</td>\n",
              "      <td>NaN</td>\n",
              "      <td>NaN</td>\n",
              "      <td>NaN</td>\n",
              "      <td>NaN</td>\n",
              "    </tr>\n",
              "    <tr>\n",
              "      <th>6529</th>\n",
              "      <td>Buick</td>\n",
              "      <td>Lucerne</td>\n",
              "      <td>2009.0</td>\n",
              "      <td>flex-fuel (unleaded/E85)</td>\n",
              "      <td>227.0</td>\n",
              "      <td>6.0</td>\n",
              "      <td>AUTOMATIC</td>\n",
              "      <td>front wheel drive</td>\n",
              "      <td>4.0</td>\n",
              "      <td>Flex Fuel</td>\n",
              "      <td>Large</td>\n",
              "      <td>Sedan</td>\n",
              "      <td>26.0</td>\n",
              "      <td>17.0</td>\n",
              "      <td>155.0</td>\n",
              "      <td>35770.0</td>\n",
              "    </tr>\n",
              "  </tbody>\n",
              "</table>\n",
              "</div>"
            ],
            "text/plain": [
              "                                                    Make  ...     MSRP\n",
              "6424                                               Acura  ...   2356.0\n",
              "2378   Porsche,Cayenne,2016,diesel,240,6,AUTOMATIC,al...  ...      NaN\n",
              "11299                                            Hyundai  ...  28345.0\n",
              "8265   Land Rover,Range Rover Evoque,2017,premium unl...  ...      NaN\n",
              "6529                                               Buick  ...  35770.0\n",
              "\n",
              "[5 rows x 16 columns]"
            ]
          },
          "metadata": {
            "tags": []
          },
          "execution_count": 31
        }
      ]
    },
    {
      "cell_type": "code",
      "metadata": {
        "colab": {
          "base_uri": "https://localhost:8080/"
        },
        "id": "TpvhBA8NqIVd",
        "outputId": "0d7ef15d-7366-444e-c552-c40402b95a6c"
      },
      "source": [
        "print(df.shape) # view the dataset shape\n",
        "print(df['Make'].value_counts()) # viewing Car companies with their cars number"
      ],
      "execution_count": 32,
      "outputs": [
        {
          "output_type": "stream",
          "text": [
            "(11914, 16)\n",
            "Chevrolet                                                                                                                                                         998\n",
            "Ford                                                                                                                                                              763\n",
            "Toyota                                                                                                                                                            678\n",
            "Volkswagen                                                                                                                                                        580\n",
            "Dodge                                                                                                                                                             541\n",
            "                                                                                                                                                                 ... \n",
            "Buick,LaCrosse,2016,flex-fuel (unleaded/E85),304,6,AUTOMATIC,all wheel drive,4,\"Flex Fuel,Performance\",Large,Sedan,26,17,155,40675                                  1\n",
            "Cadillac,CTS,2017,regular unleaded,335,6,AUTOMATIC,rear wheel drive,4,\"Luxury,High-Performance\",Large,Sedan,30,20,1624,59195                                        1\n",
            "Lincoln,MKS,2016,premium unleaded (recommended),365,6,AUTOMATIC,all wheel drive,4,\"Luxury,Performance\",Large,Sedan,24,16,61,46000                                   1\n",
            "Lincoln,MKC,2017,regular unleaded,240,4,AUTOMATIC,all wheel drive,4,\"Crossover,Luxury\",Compact,4dr SUV,25,19,61,38125                                               1\n",
            "Land Rover,Range Rover Evoque,2017,premium unleaded (recommended),240,4,AUTOMATIC,all wheel drive,2,\"Crossover,Luxury\",Compact,Convertible SUV,28,20,258,51100      1\n",
            "Name: Make, Length: 3610, dtype: int64\n"
          ],
          "name": "stdout"
        }
      ]
    },
    {
      "cell_type": "code",
      "metadata": {
        "colab": {
          "base_uri": "https://localhost:8080/",
          "height": 828
        },
        "id": "2kGS5AdyqNxX",
        "outputId": "17d8574a-94a9-452c-b35b-f19bc4c6888c"
      },
      "source": [
        "new_df = df[df['Make']=='Volkswagen'] # in this new dataset we only take 'Volkswagen' Cars\n",
        "print(new_df.shape) # Viewing the new dataset shape\n",
        "print(new_df.isnull().sum()) # Is there any Null or Empty cell presents\n",
        "new_df = new_df.dropna() # Deleting the rows which have Empty cells\n",
        "print(new_df.shape) # After deletion Vewing the shape\n",
        "print(new_df.isnull().sum()) #Is there any Null or Empty cell presents\n",
        "new_df.sample(2) # Checking the random dataset sample"
      ],
      "execution_count": 33,
      "outputs": [
        {
          "output_type": "stream",
          "text": [
            "(580, 16)\n",
            "Make                   0\n",
            "Model                  0\n",
            "Year                   0\n",
            "Engine Fuel Type       0\n",
            "Engine HP              0\n",
            "Engine Cylinders       4\n",
            "Transmission Type      0\n",
            "Driven_Wheels          0\n",
            "Number of Doors        0\n",
            "Market Category      224\n",
            "Vehicle Size           0\n",
            "Vehicle Style          0\n",
            "highway MPG            0\n",
            "city mpg               0\n",
            "Popularity             0\n",
            "MSRP                   0\n",
            "dtype: int64\n",
            "(352, 16)\n",
            "Make                 0\n",
            "Model                0\n",
            "Year                 0\n",
            "Engine Fuel Type     0\n",
            "Engine HP            0\n",
            "Engine Cylinders     0\n",
            "Transmission Type    0\n",
            "Driven_Wheels        0\n",
            "Number of Doors      0\n",
            "Market Category      0\n",
            "Vehicle Size         0\n",
            "Vehicle Style        0\n",
            "highway MPG          0\n",
            "city mpg             0\n",
            "Popularity           0\n",
            "MSRP                 0\n",
            "dtype: int64\n"
          ],
          "name": "stdout"
        },
        {
          "output_type": "execute_result",
          "data": {
            "text/html": [
              "<div>\n",
              "<style scoped>\n",
              "    .dataframe tbody tr th:only-of-type {\n",
              "        vertical-align: middle;\n",
              "    }\n",
              "\n",
              "    .dataframe tbody tr th {\n",
              "        vertical-align: top;\n",
              "    }\n",
              "\n",
              "    .dataframe thead th {\n",
              "        text-align: right;\n",
              "    }\n",
              "</style>\n",
              "<table border=\"1\" class=\"dataframe\">\n",
              "  <thead>\n",
              "    <tr style=\"text-align: right;\">\n",
              "      <th></th>\n",
              "      <th>Make</th>\n",
              "      <th>Model</th>\n",
              "      <th>Year</th>\n",
              "      <th>Engine Fuel Type</th>\n",
              "      <th>Engine HP</th>\n",
              "      <th>Engine Cylinders</th>\n",
              "      <th>Transmission Type</th>\n",
              "      <th>Driven_Wheels</th>\n",
              "      <th>Number of Doors</th>\n",
              "      <th>Market Category</th>\n",
              "      <th>Vehicle Size</th>\n",
              "      <th>Vehicle Style</th>\n",
              "      <th>highway MPG</th>\n",
              "      <th>city mpg</th>\n",
              "      <th>Popularity</th>\n",
              "      <th>MSRP</th>\n",
              "    </tr>\n",
              "  </thead>\n",
              "  <tbody>\n",
              "    <tr>\n",
              "      <th>1837</th>\n",
              "      <td>Volkswagen</td>\n",
              "      <td>Beetle Convertible</td>\n",
              "      <td>2015.0</td>\n",
              "      <td>premium unleaded (recommended)</td>\n",
              "      <td>210.0</td>\n",
              "      <td>4.0</td>\n",
              "      <td>AUTOMATED_MANUAL</td>\n",
              "      <td>front wheel drive</td>\n",
              "      <td>2.0</td>\n",
              "      <td>Performance</td>\n",
              "      <td>Compact</td>\n",
              "      <td>Convertible</td>\n",
              "      <td>29.0</td>\n",
              "      <td>23.0</td>\n",
              "      <td>873.0</td>\n",
              "      <td>32595.0</td>\n",
              "    </tr>\n",
              "    <tr>\n",
              "      <th>1952</th>\n",
              "      <td>Volkswagen</td>\n",
              "      <td>Beetle</td>\n",
              "      <td>2017.0</td>\n",
              "      <td>regular unleaded</td>\n",
              "      <td>170.0</td>\n",
              "      <td>4.0</td>\n",
              "      <td>AUTOMATIC</td>\n",
              "      <td>front wheel drive</td>\n",
              "      <td>2.0</td>\n",
              "      <td>Hatchback</td>\n",
              "      <td>Compact</td>\n",
              "      <td>2dr Hatchback</td>\n",
              "      <td>33.0</td>\n",
              "      <td>24.0</td>\n",
              "      <td>873.0</td>\n",
              "      <td>21890.0</td>\n",
              "    </tr>\n",
              "  </tbody>\n",
              "</table>\n",
              "</div>"
            ],
            "text/plain": [
              "            Make               Model    Year  ... city mpg  Popularity     MSRP\n",
              "1837  Volkswagen  Beetle Convertible  2015.0  ...     23.0       873.0  32595.0\n",
              "1952  Volkswagen              Beetle  2017.0  ...     24.0       873.0  21890.0\n",
              "\n",
              "[2 rows x 16 columns]"
            ]
          },
          "metadata": {
            "tags": []
          },
          "execution_count": 33
        }
      ]
    },
    {
      "cell_type": "code",
      "metadata": {
        "colab": {
          "base_uri": "https://localhost:8080/",
          "height": 204
        },
        "id": "tWv7EoTAqSKy",
        "outputId": "96e3b0d0-0d42-4d2a-c390-a0ad8b7657ce"
      },
      "source": [
        "new_df = new_df[['Engine HP','MSRP']] # We only take the 'Engine HP' and 'MSRP' columns\n",
        "new_df.sample(5) # Checking the random dataset sample"
      ],
      "execution_count": 34,
      "outputs": [
        {
          "output_type": "execute_result",
          "data": {
            "text/html": [
              "<div>\n",
              "<style scoped>\n",
              "    .dataframe tbody tr th:only-of-type {\n",
              "        vertical-align: middle;\n",
              "    }\n",
              "\n",
              "    .dataframe tbody tr th {\n",
              "        vertical-align: top;\n",
              "    }\n",
              "\n",
              "    .dataframe thead th {\n",
              "        text-align: right;\n",
              "    }\n",
              "</style>\n",
              "<table border=\"1\" class=\"dataframe\">\n",
              "  <thead>\n",
              "    <tr style=\"text-align: right;\">\n",
              "      <th></th>\n",
              "      <th>Engine HP</th>\n",
              "      <th>MSRP</th>\n",
              "    </tr>\n",
              "  </thead>\n",
              "  <tbody>\n",
              "    <tr>\n",
              "      <th>2399</th>\n",
              "      <td>200.0</td>\n",
              "      <td>35375.0</td>\n",
              "    </tr>\n",
              "    <tr>\n",
              "      <th>8002</th>\n",
              "      <td>170.0</td>\n",
              "      <td>16675.0</td>\n",
              "    </tr>\n",
              "    <tr>\n",
              "      <th>10418</th>\n",
              "      <td>200.0</td>\n",
              "      <td>28700.0</td>\n",
              "    </tr>\n",
              "    <tr>\n",
              "      <th>1903</th>\n",
              "      <td>170.0</td>\n",
              "      <td>25095.0</td>\n",
              "    </tr>\n",
              "    <tr>\n",
              "      <th>5346</th>\n",
              "      <td>200.0</td>\n",
              "      <td>23745.0</td>\n",
              "    </tr>\n",
              "  </tbody>\n",
              "</table>\n",
              "</div>"
            ],
            "text/plain": [
              "       Engine HP     MSRP\n",
              "2399       200.0  35375.0\n",
              "8002       170.0  16675.0\n",
              "10418      200.0  28700.0\n",
              "1903       170.0  25095.0\n",
              "5346       200.0  23745.0"
            ]
          },
          "metadata": {
            "tags": []
          },
          "execution_count": 34
        }
      ]
    },
    {
      "cell_type": "code",
      "metadata": {
        "colab": {
          "base_uri": "https://localhost:8080/"
        },
        "id": "meDCXDsCqXnx",
        "outputId": "631644ee-e2b6-43ac-f4c7-409a8337c05d"
      },
      "source": [
        "X = np.array(new_df[['Engine HP']]) # Storing into X the 'Engine HP' as np.array\n",
        "y = np.array(new_df[['MSRP']]) # Storing into y the 'MSRP' as np.array\n",
        "print(X.shape) # Vewing the shape of X\n",
        "print(y.shape) # Vewing the shape of y"
      ],
      "execution_count": 35,
      "outputs": [
        {
          "output_type": "stream",
          "text": [
            "(352, 1)\n",
            "(352, 1)\n"
          ],
          "name": "stdout"
        }
      ]
    },
    {
      "cell_type": "code",
      "metadata": {
        "colab": {
          "base_uri": "https://localhost:8080/",
          "height": 295
        },
        "id": "72fkp6_Dqe4a",
        "outputId": "0ac09749-3c34-4c9f-8531-f2a6c50659ba"
      },
      "source": [
        "plt.scatter(X,y,color=\"red\") # Plot a graph X vs y\n",
        "plt.title('HP vs MSRP')\n",
        "plt.xlabel('HP')\n",
        "plt.ylabel('MSRP')\n",
        "plt.show()"
      ],
      "execution_count": 36,
      "outputs": [
        {
          "output_type": "display_data",
          "data": {
            "image/png": "[encoded data removed]",
            "text/plain": [
              "<Figure size 432x288 with 1 Axes>"
            ]
          },
          "metadata": {
            "tags": [],
            "needs_background": "light"
          }
        }
      ]
    },
    {
      "cell_type": "code",
      "metadata": {
        "id": "tc5UIwiuqlyh"
      },
      "source": [
        "X_train,X_test,y_train,y_test = train_test_split(X,y,test_size = 0.25,random_state=15) # Spliting into train & test dataset\n",
        "regressor = LinearRegression() # Creating a regressior\n",
        "regressor.fit(X_train,y_train) # Fiting the dataset into the model\n",
        "filename = 'predictcarvalue.h5'\n",
        "pickle.dump(regressor, open(filename, 'wb'))"
      ],
      "execution_count": 37,
      "outputs": []
    },
    {
      "cell_type": "code",
      "metadata": {
        "colab": {
          "base_uri": "https://localhost:8080/",
          "height": 295
        },
        "id": "nEmlSohxq_IK",
        "outputId": "64271839-9a63-4662-db43-8e8be8b039f0"
      },
      "source": [
        "plt.scatter(X_test,y_test,color=\"green\") # Plot a graph with X_test vs y_test\n",
        "plt.plot(X_train,regressor.predict(X_train),color=\"red\",linewidth=3) # Regressior line showing\n",
        "plt.title('Regression(Test Set)')\n",
        "plt.xlabel('HP')\n",
        "plt.ylabel('MSRP')\n",
        "plt.show()"
      ],
      "execution_count": 38,
      "outputs": [
        {
          "output_type": "display_data",
          "data": {
            "image/png": "[encoded data removed]",
            "text/plain": [
              "<Figure size 432x288 with 1 Axes>"
            ]
          },
          "metadata": {
            "tags": [],
            "needs_background": "light"
          }
        }
      ]
    },
    {
      "cell_type": "code",
      "metadata": {
        "colab": {
          "base_uri": "https://localhost:8080/",
          "height": 295
        },
        "id": "iHtOku3nrEIf",
        "outputId": "3656d949-7468-4dec-f322-50a9d9c74a95"
      },
      "source": [
        "plt.scatter(X_train,y_train,color=\"blue\")  # Plot a graph with X_train vs y_train\n",
        "plt.plot(X_train,regressor.predict(X_train),color=\"red\",linewidth=3) # Regressior line showing\n",
        "plt.title('Regression(training Set)')\n",
        "plt.xlabel('HP')\n",
        "plt.ylabel('MSRP')\n",
        "plt.show()"
      ],
      "execution_count": 39,
      "outputs": [
        {
          "output_type": "display_data",
          "data": {
            "image/png": "[encoded data removed]",
            "text/plain": [
              "<Figure size 432x288 with 1 Axes>"
            ]
          },
          "metadata": {
            "tags": [],
            "needs_background": "light"
          }
        }
      ]
    },
    {
      "cell_type": "code",
      "metadata": {
        "colab": {
          "base_uri": "https://localhost:8080/"
        },
        "id": "b7Ji3NNzrIu3",
        "outputId": "82a00cbf-73cc-4d20-9dd3-4aefb7bc290f"
      },
      "source": [
        "y_pred = regressor.predict(X_test)\n",
        "print('R2 score: %.2f' % r2_score(y_test,y_pred)) # Priniting R2 Score\n",
        "print('Mean squared Error :',mean_squared_error(y_test,y_pred)) # Priniting the mean error"
      ],
      "execution_count": 40,
      "outputs": [
        {
          "output_type": "stream",
          "text": [
            "R2 score: 0.51\n",
            "Mean squared Error : 29222988.406013012\n"
          ],
          "name": "stdout"
        }
      ]
    },
    {
      "cell_type": "code",
      "metadata": {
        "colab": {
          "base_uri": "https://localhost:8080/"
        },
        "id": "eHgJ87v2rVfT",
        "outputId": "07d9f3db-9d76-4697-b076-52b72de25dbc"
      },
      "source": [
        "def car_price(hp): # A function to predict the price according to Horsepower\n",
        "    result = regressor.predict(np.array(hp).reshape(1, -1))\n",
        "    return(result[0,0])\n",
        "\n",
        "car_hp = int(input('Enter Volkswagen cars Horse Power : '))\n",
        "print('This Volkswagen Price will be : ',int(car_price(car_hp))*69,'₹')"
      ],
      "execution_count": 41,
      "outputs": [
        {
          "output_type": "stream",
          "text": [
            "Enter Volkswagen cars Horse Power : 200\n",
            "This Volkswagen Price will be :  2048817 ₹\n"
          ],
          "name": "stdout"
        }
      ]
    }
  ]
}