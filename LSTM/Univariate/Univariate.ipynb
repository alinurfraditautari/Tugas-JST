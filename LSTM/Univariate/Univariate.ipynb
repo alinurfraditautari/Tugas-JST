{
  "nbformat": 4,
  "nbformat_minor": 0,
  "metadata": {
    "colab": {
      "name": "Univariate.ipynb",
      "provenance": [],
      "collapsed_sections": []
    },
    "kernelspec": {
      "name": "python3",
      "display_name": "Python 3"
    },
    "language_info": {
      "name": "python"
    }
  },
  "cells": [
    {
      "cell_type": "code",
      "metadata": {
        "colab": {
          "base_uri": "https://localhost:8080/"
        },
        "id": "753FYUQEZ8LC",
        "outputId": "615c9d2a-3ed4-4103-d064-bfcdcea5cad6"
      },
      "source": [
        "from google.colab import drive \n",
        "drive.mount('/content/drive')"
      ],
      "execution_count": 16,
      "outputs": [
        {
          "output_type": "stream",
          "text": [
            "Drive already mounted at /content/drive; to attempt to forcibly remount, call drive.mount(\"/content/drive\", force_remount=True).\n"
          ],
          "name": "stdout"
        }
      ]
    },
    {
      "cell_type": "code",
      "metadata": {
        "id": "1Bs2ELIsawZO"
      },
      "source": [
        "#Import Libraries\n",
        "import numpy as np\n",
        "import matplotlib.pyplot as plt\n",
        "import pandas as pd\n",
        "import math\n",
        "from sklearn.preprocessing import MinMaxScaler\n",
        "from sklearn.metrics import mean_squared_error\n",
        "from keras.models import Sequential\n",
        "from keras.layers import Dense\n",
        "from keras.layers import LSTM"
      ],
      "execution_count": 17,
      "outputs": []
    },
    {
      "cell_type": "code",
      "metadata": {
        "colab": {
          "base_uri": "https://localhost:8080/",
          "height": 419
        },
        "id": "52xX05iPa1Z7",
        "outputId": "8e594170-b884-4f34-e07e-9fc596880297"
      },
      "source": [
        "#See the data\n",
        "dataframe = pd.read_csv('/content/drive/MyDrive/TugasJST/LSTM/Univariate/train_csv.csv', usecols=[2], engine='python')\n",
        "dataset = dataframe.values\n",
        "dataframe"
      ],
      "execution_count": 18,
      "outputs": [
        {
          "output_type": "execute_result",
          "data": {
            "text/html": [
              "<div>\n",
              "<style scoped>\n",
              "    .dataframe tbody tr th:only-of-type {\n",
              "        vertical-align: middle;\n",
              "    }\n",
              "\n",
              "    .dataframe tbody tr th {\n",
              "        vertical-align: top;\n",
              "    }\n",
              "\n",
              "    .dataframe thead th {\n",
              "        text-align: right;\n",
              "    }\n",
              "</style>\n",
              "<table border=\"1\" class=\"dataframe\">\n",
              "  <thead>\n",
              "    <tr style=\"text-align: right;\">\n",
              "      <th></th>\n",
              "      <th>feature</th>\n",
              "    </tr>\n",
              "  </thead>\n",
              "  <tbody>\n",
              "    <tr>\n",
              "      <th>0</th>\n",
              "      <td>237.97</td>\n",
              "    </tr>\n",
              "    <tr>\n",
              "      <th>1</th>\n",
              "      <td>57.93</td>\n",
              "    </tr>\n",
              "    <tr>\n",
              "      <th>2</th>\n",
              "      <td>90.53</td>\n",
              "    </tr>\n",
              "    <tr>\n",
              "      <th>3</th>\n",
              "      <td>260.75</td>\n",
              "    </tr>\n",
              "    <tr>\n",
              "      <th>4</th>\n",
              "      <td>49.70</td>\n",
              "    </tr>\n",
              "    <tr>\n",
              "      <th>...</th>\n",
              "      <td>...</td>\n",
              "    </tr>\n",
              "    <tr>\n",
              "      <th>75</th>\n",
              "      <td>469.72</td>\n",
              "    </tr>\n",
              "    <tr>\n",
              "      <th>76</th>\n",
              "      <td>406.79</td>\n",
              "    </tr>\n",
              "    <tr>\n",
              "      <th>77</th>\n",
              "      <td>128.91</td>\n",
              "    </tr>\n",
              "    <tr>\n",
              "      <th>78</th>\n",
              "      <td>85.28</td>\n",
              "    </tr>\n",
              "    <tr>\n",
              "      <th>79</th>\n",
              "      <td>121.12</td>\n",
              "    </tr>\n",
              "  </tbody>\n",
              "</table>\n",
              "<p>80 rows × 1 columns</p>\n",
              "</div>"
            ],
            "text/plain": [
              "    feature\n",
              "0    237.97\n",
              "1     57.93\n",
              "2     90.53\n",
              "3    260.75\n",
              "4     49.70\n",
              "..      ...\n",
              "75   469.72\n",
              "76   406.79\n",
              "77   128.91\n",
              "78    85.28\n",
              "79   121.12\n",
              "\n",
              "[80 rows x 1 columns]"
            ]
          },
          "metadata": {
            "tags": []
          },
          "execution_count": 18
        }
      ]
    },
    {
      "cell_type": "code",
      "metadata": {
        "colab": {
          "base_uri": "https://localhost:8080/"
        },
        "id": "K76Mf0lza4OF",
        "outputId": "ace6e59b-5327-4a90-fb51-f056f2a9ee99"
      },
      "source": [
        "# MinMax scaling for 0 to 1\n",
        "scaler = MinMaxScaler(feature_range=(0, 1))\n",
        "dataset = scaler.fit_transform(dataset)\n",
        "len(dataset)"
      ],
      "execution_count": 19,
      "outputs": [
        {
          "output_type": "execute_result",
          "data": {
            "text/plain": [
              "80"
            ]
          },
          "metadata": {
            "tags": []
          },
          "execution_count": 19
        }
      ]
    },
    {
      "cell_type": "code",
      "metadata": {
        "colab": {
          "base_uri": "https://localhost:8080/"
        },
        "id": "GmSwf8xTbTCL",
        "outputId": "8285a865-bcc0-4814-d05e-a6f76a31cbca"
      },
      "source": [
        "# splitting the 80% training and 20% testing\n",
        "train_size = int(len(dataset) * 0.8)\n",
        "test_size = len(dataset) - train_size\n",
        "train, test = dataset[0:train_size,:], dataset[train_size:len(dataset),:]\n",
        "print(len(train), len(test))"
      ],
      "execution_count": 20,
      "outputs": [
        {
          "output_type": "stream",
          "text": [
            "64 16\n"
          ],
          "name": "stdout"
        }
      ]
    },
    {
      "cell_type": "code",
      "metadata": {
        "id": "QpQ2s63BbWUm"
      },
      "source": [
        "# function for pre processing data for RNN.\n",
        "def create_dataset(dataset, no_seq=1):\n",
        "    dataX, dataY = [], []\n",
        "    for i in range(len(dataset)-no_seq-1):\n",
        "        a = dataset[i:(i+no_seq), 0]\n",
        "        dataX.append(a)\n",
        "        dataY.append(dataset[i + no_seq, 0])\n",
        "    return np.array(dataX), np.array(dataY)"
      ],
      "execution_count": 21,
      "outputs": []
    },
    {
      "cell_type": "code",
      "metadata": {
        "colab": {
          "base_uri": "https://localhost:8080/"
        },
        "id": "LH-663e-bhA9",
        "outputId": "e05adb0d-a509-4822-d963-ca4025e7c05a"
      },
      "source": [
        "# with number of sequence=1, splitting of data takes place. \n",
        "no_seq = 1\n",
        "trainX, trainY = create_dataset(train, no_seq)\n",
        "testX, testY = create_dataset(test, no_seq)\n",
        "print(len(trainX),len(trainY))\n",
        "print(len(testX),len(testY))"
      ],
      "execution_count": 22,
      "outputs": [
        {
          "output_type": "stream",
          "text": [
            "62 62\n",
            "14 14\n"
          ],
          "name": "stdout"
        }
      ]
    },
    {
      "cell_type": "code",
      "metadata": {
        "id": "CU4dQ5ynbk2_"
      },
      "source": [
        "#Reshape dataset\n",
        "trainX = np.reshape(trainX, (trainX.shape[0], 1, trainX.shape[1]))\n",
        "testX = np.reshape(testX, (testX.shape[0], 1, testX.shape[1]))"
      ],
      "execution_count": 23,
      "outputs": []
    },
    {
      "cell_type": "code",
      "metadata": {
        "id": "MXf4MZAMboKb"
      },
      "source": [
        "#Make Model\n",
        "\n",
        "model = Sequential()\n",
        "\n",
        "model.add(LSTM(units=50, return_sequences=True,input_shape=(1, no_seq)))\n",
        "model.add(LSTM(units=50, return_sequences=False))\n",
        "model.add(Dense(units=25))\n",
        "model.add(Dense(units=1))\n",
        "model.save(\"Univariate.h5\")"
      ],
      "execution_count": 24,
      "outputs": []
    },
    {
      "cell_type": "code",
      "metadata": {
        "id": "1VXxBPXebtS7"
      },
      "source": [
        "#compile\n",
        "model.compile(loss='mean_squared_error', optimizer='adam')"
      ],
      "execution_count": 25,
      "outputs": []
    },
    {
      "cell_type": "code",
      "metadata": {
        "colab": {
          "base_uri": "https://localhost:8080/"
        },
        "id": "5gGS_njCbvzn",
        "outputId": "763df9a6-6ac9-49fc-8f1c-16265d0cfe8e"
      },
      "source": [
        "#Evaluation, replace with 1, if you want to display the epoch\n",
        "model.fit(trainX, trainY, epochs=50, batch_size=32, verbose=1)"
      ],
      "execution_count": 26,
      "outputs": [
        {
          "output_type": "stream",
          "text": [
            "Epoch 1/50\n",
            "2/2 [==============================] - 4s 14ms/step - loss: 0.1013\n",
            "Epoch 2/50\n",
            "2/2 [==============================] - 0s 8ms/step - loss: 0.0890\n",
            "Epoch 3/50\n",
            "2/2 [==============================] - 0s 8ms/step - loss: 0.0763\n",
            "Epoch 4/50\n",
            "2/2 [==============================] - 0s 9ms/step - loss: 0.0751\n",
            "Epoch 5/50\n",
            "2/2 [==============================] - 0s 8ms/step - loss: 0.0590\n",
            "Epoch 6/50\n",
            "2/2 [==============================] - 0s 13ms/step - loss: 0.0596\n",
            "Epoch 7/50\n",
            "2/2 [==============================] - 0s 10ms/step - loss: 0.0482\n",
            "Epoch 8/50\n",
            "2/2 [==============================] - 0s 10ms/step - loss: 0.0469\n",
            "Epoch 9/50\n",
            "2/2 [==============================] - 0s 9ms/step - loss: 0.0427\n",
            "Epoch 10/50\n",
            "2/2 [==============================] - 0s 9ms/step - loss: 0.0398\n",
            "Epoch 11/50\n",
            "2/2 [==============================] - 0s 10ms/step - loss: 0.0364\n",
            "Epoch 12/50\n",
            "2/2 [==============================] - 0s 16ms/step - loss: 0.0346\n",
            "Epoch 13/50\n",
            "2/2 [==============================] - 0s 9ms/step - loss: 0.0374\n",
            "Epoch 14/50\n",
            "2/2 [==============================] - 0s 15ms/step - loss: 0.0360\n",
            "Epoch 15/50\n",
            "2/2 [==============================] - 0s 14ms/step - loss: 0.0378\n",
            "Epoch 16/50\n",
            "2/2 [==============================] - 0s 11ms/step - loss: 0.0369\n",
            "Epoch 17/50\n",
            "2/2 [==============================] - 0s 8ms/step - loss: 0.0387\n",
            "Epoch 18/50\n",
            "2/2 [==============================] - 0s 13ms/step - loss: 0.0367\n",
            "Epoch 19/50\n",
            "2/2 [==============================] - 0s 10ms/step - loss: 0.0368\n",
            "Epoch 20/50\n",
            "2/2 [==============================] - 0s 14ms/step - loss: 0.0372\n",
            "Epoch 21/50\n",
            "2/2 [==============================] - 0s 10ms/step - loss: 0.0362\n",
            "Epoch 22/50\n",
            "2/2 [==============================] - 0s 13ms/step - loss: 0.0335\n",
            "Epoch 23/50\n",
            "2/2 [==============================] - 0s 11ms/step - loss: 0.0340\n",
            "Epoch 24/50\n",
            "2/2 [==============================] - 0s 11ms/step - loss: 0.0345\n",
            "Epoch 25/50\n",
            "2/2 [==============================] - 0s 13ms/step - loss: 0.0365\n",
            "Epoch 26/50\n",
            "2/2 [==============================] - 0s 11ms/step - loss: 0.0347\n",
            "Epoch 27/50\n",
            "2/2 [==============================] - 0s 10ms/step - loss: 0.0365\n",
            "Epoch 28/50\n",
            "2/2 [==============================] - 0s 12ms/step - loss: 0.0330\n",
            "Epoch 29/50\n",
            "2/2 [==============================] - 0s 9ms/step - loss: 0.0343\n",
            "Epoch 30/50\n",
            "2/2 [==============================] - 0s 10ms/step - loss: 0.0345\n",
            "Epoch 31/50\n",
            "2/2 [==============================] - 0s 9ms/step - loss: 0.0354\n",
            "Epoch 32/50\n",
            "2/2 [==============================] - 0s 12ms/step - loss: 0.0351\n",
            "Epoch 33/50\n",
            "2/2 [==============================] - 0s 11ms/step - loss: 0.0347\n",
            "Epoch 34/50\n",
            "2/2 [==============================] - 0s 10ms/step - loss: 0.0361\n",
            "Epoch 35/50\n",
            "2/2 [==============================] - 0s 9ms/step - loss: 0.0346\n",
            "Epoch 36/50\n",
            "2/2 [==============================] - 0s 11ms/step - loss: 0.0350\n",
            "Epoch 37/50\n",
            "2/2 [==============================] - 0s 10ms/step - loss: 0.0345\n",
            "Epoch 38/50\n",
            "2/2 [==============================] - 0s 8ms/step - loss: 0.0370\n",
            "Epoch 39/50\n",
            "2/2 [==============================] - 0s 9ms/step - loss: 0.0359\n",
            "Epoch 40/50\n",
            "2/2 [==============================] - 0s 9ms/step - loss: 0.0339\n",
            "Epoch 41/50\n",
            "2/2 [==============================] - 0s 11ms/step - loss: 0.0317\n",
            "Epoch 42/50\n",
            "2/2 [==============================] - 0s 10ms/step - loss: 0.0337\n",
            "Epoch 43/50\n",
            "2/2 [==============================] - 0s 9ms/step - loss: 0.0384\n",
            "Epoch 44/50\n",
            "2/2 [==============================] - 0s 17ms/step - loss: 0.0362\n",
            "Epoch 45/50\n",
            "2/2 [==============================] - 0s 12ms/step - loss: 0.0336\n",
            "Epoch 46/50\n",
            "2/2 [==============================] - 0s 11ms/step - loss: 0.0360\n",
            "Epoch 47/50\n",
            "2/2 [==============================] - 0s 14ms/step - loss: 0.0363\n",
            "Epoch 48/50\n",
            "2/2 [==============================] - 0s 11ms/step - loss: 0.0331\n",
            "Epoch 49/50\n",
            "2/2 [==============================] - 0s 6ms/step - loss: 0.0367\n",
            "Epoch 50/50\n",
            "2/2 [==============================] - 0s 12ms/step - loss: 0.0341\n"
          ],
          "name": "stdout"
        },
        {
          "output_type": "execute_result",
          "data": {
            "text/plain": [
              "<tensorflow.python.keras.callbacks.History at 0x7fdda7c5df50>"
            ]
          },
          "metadata": {
            "tags": []
          },
          "execution_count": 26
        }
      ]
    },
    {
      "cell_type": "code",
      "metadata": {
        "colab": {
          "base_uri": "https://localhost:8080/",
          "height": 281
        },
        "id": "glclJCWZb0S7",
        "outputId": "71c2368f-e755-414d-b7d0-cbdc0477725a"
      },
      "source": [
        "#show the graph of loss function\n",
        "plt.title('Loss')\n",
        "plt.plot(model.history.history['loss'], label='loss value')\n",
        "plt.legend()\n",
        "plt.show()"
      ],
      "execution_count": 27,
      "outputs": [
        {
          "output_type": "display_data",
          "data": {
            "image/png": "[encoded data removed]",
            "text/plain": [
              "<Figure size 432x288 with 1 Axes>"
            ]
          },
          "metadata": {
            "tags": [],
            "needs_background": "light"
          }
        }
      ]
    },
    {
      "cell_type": "code",
      "metadata": {
        "colab": {
          "base_uri": "https://localhost:8080/",
          "height": 299
        },
        "id": "lp8LDz2Hb4Az",
        "outputId": "27bbba5e-353f-44c7-9155-ab73c665166e"
      },
      "source": [
        "#Prediction use RSME\n",
        "trainPredict = model.predict(trainX)\n",
        "testPredict = model.predict(testX)\n",
        "\n",
        "trainPredict = scaler.inverse_transform(trainPredict)\n",
        "trainY = scaler.inverse_transform([trainY])\n",
        "testPredict = scaler.inverse_transform(testPredict)\n",
        "testY = scaler.inverse_transform([testY])\n",
        "\n",
        "trainScore = math.sqrt(mean_squared_error(trainY[0], trainPredict[:,0]))\n",
        "print('Train Score: %.2f RMSE' % (trainScore))\n",
        "testScore = math.sqrt(mean_squared_error(testY[0], testPredict[:,0]))\n",
        "print('Test Score: %.2f RMSE' % (testScore))\n",
        "\n",
        "trainPredictPlot = np.empty_like(dataset)\n",
        "trainPredictPlot[:, :] = np.nan\n",
        "trainPredictPlot[no_seq:len(trainPredict)+no_seq, :] = trainPredict\n",
        "testPredictPlot = np.empty_like(dataset)\n",
        "testPredictPlot[:, :] = np.nan\n",
        "testPredictPlot[len(trainPredict)+(no_seq*2)+1:len(dataset)-1, :] = testPredict\n",
        "plt.plot(scaler.inverse_transform(dataset))\n",
        "plt.plot(trainPredictPlot)\n",
        "plt.plot(testPredictPlot)\n",
        "plt.show()"
      ],
      "execution_count": 28,
      "outputs": [
        {
          "output_type": "stream",
          "text": [
            "Train Score: 83.69 RMSE\n",
            "Test Score: 124.37 RMSE\n"
          ],
          "name": "stdout"
        },
        {
          "output_type": "display_data",
          "data": {
            "image/png": "[encoded data removed]",
            "text/plain": [
              "<Figure size 432x288 with 1 Axes>"
            ]
          },
          "metadata": {
            "tags": [],
            "needs_background": "light"
          }
        }
      ]
    },
    {
      "cell_type": "code",
      "metadata": {
        "colab": {
          "base_uri": "https://localhost:8080/"
        },
        "id": "sfQSzNCvb721",
        "outputId": "8ffcfb9f-73f1-4c19-d52b-7bc7f9e8757e"
      },
      "source": [
        "#Predict Future\n",
        "inference_data = pd.read_csv('/content/drive/MyDrive/TugasJST/LSTM/Univariate/test_csv.csv')\n",
        "\n",
        "No_test_data = len(inference_data)\n",
        "\n",
        "# Number of features to be found.\n",
        "print(No_test_data)"
      ],
      "execution_count": 29,
      "outputs": [
        {
          "output_type": "stream",
          "text": [
            "40\n"
          ],
          "name": "stdout"
        }
      ]
    },
    {
      "cell_type": "code",
      "metadata": {
        "colab": {
          "base_uri": "https://localhost:8080/"
        },
        "id": "0PRjURFdcHe7",
        "outputId": "e7310671-8ce9-4518-bcaa-6f255db2582b"
      },
      "source": [
        "# Prediction taking the last dataset of train and predicting the rest 39 features.\n",
        "\n",
        "for i in range(79, 79+No_test_data):\n",
        "    \n",
        "    # last day of the training dataset.\n",
        "    if i == 79:\n",
        "        last_day = dataframe[i:i+1].values\n",
        "        last_day = scaler.transform(last_day)\n",
        "        X_test = []\n",
        "        X_test.append(last_day)\n",
        "        X_test = np.array(X_test)\n",
        "        X_test = np.reshape(X_test, (X_test.shape[0], X_test.shape[1], 1))\n",
        "        pred_price = model.predict(X_test)\n",
        "        pred_price = scaler.inverse_transform(pred_price)\n",
        "        print(pred_price)\n",
        "        \n",
        "    # rest 39 features.   \n",
        "    else:\n",
        "        last_day = pred_value\n",
        "        last_day = scaler.transform(last_day)\n",
        "        X_test = []\n",
        "        X_test.append(last_day)\n",
        "        X_test = np.array(X_test)\n",
        "        X_test = np.reshape(X_test, (X_test.shape[0], X_test.shape[1], 1))\n",
        "        pred_price = model.predict(X_test)\n",
        "        pred_price = scaler.inverse_transform(pred_price)\n",
        "        print(pred_price)\n",
        "        \n",
        "    # replacing the old prediction value with new for next feature prediction.\n",
        "    pred_value = pred_price"
      ],
      "execution_count": 30,
      "outputs": [
        {
          "output_type": "stream",
          "text": [
            "[[130.37323]]\n",
            "[[132.24417]]\n",
            "[[132.6229]]\n",
            "[[132.69957]]\n",
            "[[132.7151]]\n",
            "[[132.71825]]\n",
            "[[132.71887]]\n",
            "[[132.71901]]\n",
            "[[132.71906]]\n",
            "[[132.71906]]\n",
            "[[132.71906]]\n",
            "[[132.71906]]\n",
            "[[132.71906]]\n",
            "[[132.71906]]\n",
            "[[132.71906]]\n",
            "[[132.71906]]\n",
            "[[132.71906]]\n",
            "[[132.71906]]\n",
            "[[132.71906]]\n",
            "[[132.71906]]\n",
            "[[132.71906]]\n",
            "[[132.71906]]\n",
            "[[132.71906]]\n",
            "[[132.71906]]\n",
            "[[132.71906]]\n",
            "[[132.71906]]\n",
            "[[132.71906]]\n",
            "[[132.71906]]\n",
            "[[132.71906]]\n",
            "[[132.71906]]\n",
            "[[132.71906]]\n",
            "[[132.71906]]\n",
            "[[132.71906]]\n",
            "[[132.71906]]\n",
            "[[132.71906]]\n",
            "[[132.71906]]\n",
            "[[132.71906]]\n",
            "[[132.71906]]\n",
            "[[132.71906]]\n",
            "[[132.71906]]\n"
          ],
          "name": "stdout"
        }
      ]
    }
  ]
}