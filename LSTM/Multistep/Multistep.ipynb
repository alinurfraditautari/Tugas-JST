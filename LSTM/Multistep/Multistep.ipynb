{
  "nbformat": 4,
  "nbformat_minor": 0,
  "metadata": {
    "colab": {
      "name": "Multistep.ipynb",
      "provenance": [],
      "collapsed_sections": []
    },
    "kernelspec": {
      "name": "python3",
      "display_name": "Python 3"
    },
    "language_info": {
      "name": "python"
    }
  },
  "cells": [
    {
      "cell_type": "code",
      "metadata": {
        "colab": {
          "base_uri": "https://localhost:8080/"
        },
        "id": "ZKKc6jQJXIjs",
        "outputId": "1bce8e8d-98b1-47c6-fcc6-3eb281fd4968"
      },
      "source": [
        "from google.colab import drive \n",
        "drive.mount('/content/drive')"
      ],
      "execution_count": 17,
      "outputs": [
        {
          "output_type": "stream",
          "text": [
            "Drive already mounted at /content/drive; to attempt to forcibly remount, call drive.mount(\"/content/drive\", force_remount=True).\n"
          ],
          "name": "stdout"
        }
      ]
    },
    {
      "cell_type": "code",
      "metadata": {
        "colab": {
          "base_uri": "https://localhost:8080/"
        },
        "id": "7c4zvTZUXeeS",
        "outputId": "f3154d27-a17d-4b73-afdf-4f0af722e759"
      },
      "source": [
        "#Import Libraries\n",
        "from pandas import DataFrame\n",
        "from pandas import Series\n",
        "from pandas import concat\n",
        "from pandas import read_csv\n",
        "from pandas import datetime\n",
        "from sklearn.metrics import mean_squared_error\n",
        "from sklearn.preprocessing import MinMaxScaler\n",
        "from keras.models import Sequential\n",
        "from keras.layers import Dense\n",
        "from keras.layers import LSTM\n",
        "from math import sqrt\n",
        "from matplotlib import pyplot\n",
        "from numpy import array"
      ],
      "execution_count": 18,
      "outputs": [
        {
          "output_type": "stream",
          "text": [
            "/usr/local/lib/python3.7/dist-packages/ipykernel_launcher.py:6: FutureWarning: The pandas.datetime class is deprecated and will be removed from pandas in a future version. Import from datetime module instead.\n",
            "  \n"
          ],
          "name": "stderr"
        }
      ]
    },
    {
      "cell_type": "code",
      "metadata": {
        "id": "2aTlFdesXlty"
      },
      "source": [
        "# date-time parsing function for loading the dataset\n",
        "def parser(x):\n",
        "  return datetime.strptime('190'+x, '%Y-%m')"
      ],
      "execution_count": 19,
      "outputs": []
    },
    {
      "cell_type": "code",
      "metadata": {
        "id": "QghisGNWXsua"
      },
      "source": [
        "# convert time series into supervised learning problem\n",
        "def series_to_supervised(data, n_in=1, n_out=1, dropnan=True):\n",
        "  n_vars = 1 if type(data) is list else data.shape[1]\n",
        "  df = DataFrame(data)\n",
        "  cols, names = list(), list()\n",
        "  # input sequence (t-n, ... t-1)\n",
        "  for i in range(n_in, 0, -1):\n",
        "    cols.append(df.shift(i))\n",
        "    names += [('var%d(t-%d)' % (j+1, i)) for j in range(n_vars)]\n",
        "  # forecast sequence (t, t+1, ... t+n)\n",
        "  for i in range(0, n_out):\n",
        "    cols.append(df.shift(-i))\n",
        "    if i == 0:\n",
        "      names += [('var%d(t)' % (j+1)) for j in range(n_vars)]\n",
        "    else:\n",
        "      names += [('var%d(t+%d)' % (j+1, i)) for j in range(n_vars)]\n",
        "  # put it all together\n",
        "  agg = concat(cols, axis=1)\n",
        "  agg.columns = names\n",
        "  # drop rows with NaN values\n",
        "  if dropnan:\n",
        "    agg.dropna(inplace=True)\n",
        "  return agg"
      ],
      "execution_count": 20,
      "outputs": []
    },
    {
      "cell_type": "code",
      "metadata": {
        "id": "pienLT9XXwOM"
      },
      "source": [
        "# create a differenced series\n",
        "def difference(dataset, interval=1):\n",
        "  diff = list()\n",
        "  for i in range(interval, len(dataset)):\n",
        "    value = dataset[i] - dataset[i - interval]\n",
        "    diff.append(value)\n",
        "  return Series(diff)"
      ],
      "execution_count": 21,
      "outputs": []
    },
    {
      "cell_type": "code",
      "metadata": {
        "id": "pWykx4tgX0Rb"
      },
      "source": [
        "# transform series into train and test sets for supervised learning\n",
        "def prepare_data(series, n_test, n_lag, n_seq):\n",
        "  # extract raw values\n",
        "  raw_values = series.values\n",
        "  # transform data to be stationary\n",
        "  diff_series = difference(raw_values, 1)\n",
        "  diff_values = diff_series.values\n",
        "  diff_values = diff_values.reshape(len(diff_values), 1)\n",
        "  # rescale values to -1, 1\n",
        "  scaler = MinMaxScaler(feature_range=(-1, 1))\n",
        "  scaled_values = scaler.fit_transform(diff_values)\n",
        "  scaled_values = scaled_values.reshape(len(scaled_values), 1)\n",
        "  # transform into supervised learning problem X, y\n",
        "  supervised = series_to_supervised(scaled_values, n_lag, n_seq)\n",
        "  supervised_values = supervised.values\n",
        "  # split into train and test sets\n",
        "  train, test = supervised_values[0:-n_test], supervised_values[-n_test:]\n",
        "  return scaler, train, test"
      ],
      "execution_count": 22,
      "outputs": []
    },
    {
      "cell_type": "code",
      "metadata": {
        "id": "ElpwD762X4pt"
      },
      "source": [
        "# fit an LSTM network to training data\n",
        "def fit_lstm(train, n_lag, n_seq, n_batch, nb_epoch, n_neurons):\n",
        "  # reshape training into [samples, timesteps, features]\n",
        "  X, y = train[:, 0:n_lag], train[:, n_lag:]\n",
        "  X = X.reshape(X.shape[0], 1, X.shape[1])\n",
        "  # design network\n",
        "  model = Sequential()\n",
        "  model.add(LSTM(n_neurons, batch_input_shape=(n_batch, X.shape[1], X.shape[2]), stateful=True))\n",
        "  model.add(Dense(y.shape[1]))\n",
        "  model.compile(loss='mean_squared_error', optimizer='adam')\n",
        "  # fit network\n",
        "  for i in range(nb_epoch):\n",
        "    model.fit(X, y, epochs=1, batch_size=n_batch, verbose=0, shuffle=False)\n",
        "    model.reset_states()\n",
        "  return model"
      ],
      "execution_count": 23,
      "outputs": []
    },
    {
      "cell_type": "code",
      "metadata": {
        "id": "hz_galNIX8Wb"
      },
      "source": [
        "# make one forecast with an LSTM,\n",
        "def forecast_lstm(model, X, n_batch):\n",
        "  # reshape input pattern to [samples, timesteps, features]\n",
        "  X = X.reshape(1, 1, len(X))\n",
        "  # make forecast\n",
        "  forecast = model.predict(X, batch_size=n_batch)\n",
        "  # convert to array\n",
        "  return [x for x in forecast[0, :]]"
      ],
      "execution_count": 24,
      "outputs": []
    },
    {
      "cell_type": "code",
      "metadata": {
        "id": "T3HEbHiAX_bo"
      },
      "source": [
        "# evaluate the persistence model\n",
        "def make_forecasts(model, n_batch, train, test, n_lag, n_seq):\n",
        "  forecasts = list()\n",
        "  for i in range(len(test)):\n",
        "    X, y = test[i, 0:n_lag], test[i, n_lag:]\n",
        "    # make forecast\n",
        "    forecast = forecast_lstm(model, X, n_batch)\n",
        "    # store the forecast\n",
        "    forecasts.append(forecast)\n",
        "  return forecasts"
      ],
      "execution_count": 25,
      "outputs": []
    },
    {
      "cell_type": "code",
      "metadata": {
        "id": "Z4-wifMGYD5u"
      },
      "source": [
        "# invert differenced forecast\n",
        "def inverse_difference(last_ob, forecast):\n",
        "  # invert first forecast\n",
        "  inverted = list()\n",
        "  inverted.append(forecast[0] + last_ob)\n",
        "  # propagate difference forecast using inverted first value\n",
        "  for i in range(1, len(forecast)):\n",
        "    inverted.append(forecast[i] + inverted[i-1])\n",
        "  return inverted\n",
        " \n",
        "# inverse data transform on forecasts\n",
        "def inverse_transform(series, forecasts, scaler, n_test):\n",
        "  inverted = list()\n",
        "  for i in range(len(forecasts)):\n",
        "    # create array from forecast\n",
        "    forecast = array(forecasts[i])\n",
        "    forecast = forecast.reshape(1, len(forecast))\n",
        "    # invert scaling\n",
        "    inv_scale = scaler.inverse_transform(forecast)\n",
        "    inv_scale = inv_scale[0, :]\n",
        "    # invert differencing\n",
        "    index = len(series) - n_test + i - 1\n",
        "    last_ob = series.values[index]\n",
        "    inv_diff = inverse_difference(last_ob, inv_scale)\n",
        "    # store\n",
        "    inverted.append(inv_diff)\n",
        "  return inverted\n",
        " \n",
        "# evaluate the RMSE for each forecast time step\n",
        "def evaluate_forecasts(test, forecasts, n_lag, n_seq):\n",
        "  for i in range(n_seq):\n",
        "    actual = [row[i] for row in test]\n",
        "    predicted = [forecast[i] for forecast in forecasts]\n",
        "    rmse = sqrt(mean_squared_error(actual, predicted))\n",
        "    print('t+%d RMSE: %f' % ((i+1), rmse))\n",
        " \n",
        "# plot the forecasts in the context of the original dataset\n",
        "def plot_forecasts(series, forecasts, n_test):\n",
        "  # plot the entire dataset in blue\n",
        "  pyplot.plot(series.values)\n",
        "  # plot the forecasts in red\n",
        "  for i in range(len(forecasts)):\n",
        "    off_s = len(series) - n_test + i - 1\n",
        "    off_e = off_s + len(forecasts[i]) + 1\n",
        "    xaxis = [x for x in range(off_s, off_e)]\n",
        "    yaxis = [series.values[off_s]] + forecasts[i]\n",
        "    pyplot.plot(xaxis, yaxis, color='red')\n",
        "  # show the plot\n",
        "  pyplot.show()"
      ],
      "execution_count": 26,
      "outputs": []
    },
    {
      "cell_type": "code",
      "metadata": {
        "colab": {
          "base_uri": "https://localhost:8080/",
          "height": 316
        },
        "id": "uaaBIbieYJwW",
        "outputId": "07243b53-66fe-4638-a487-18824e60b168"
      },
      "source": [
        "# load dataset\n",
        "series = read_csv('/content/drive/MyDrive/TugasJST/LSTM/Multistep/shampoo-sales.csv', header=0, parse_dates=[0], index_col=0, squeeze=True, date_parser=parser)\n",
        "# configure\n",
        "n_lag = 1\n",
        "n_seq = 3\n",
        "n_test = 10\n",
        "n_epochs = 1500\n",
        "n_batch = 1\n",
        "n_neurons = 1\n",
        "# prepare data\n",
        "scaler, train, test = prepare_data(series, n_test, n_lag, n_seq)\n",
        "# fit model\n",
        "model = fit_lstm(train, n_lag, n_seq, n_batch, n_epochs, n_neurons)\n",
        "model.save(\"multistep.h5\")\n",
        "# make forecasts\n",
        "forecasts = make_forecasts(model, n_batch, train, test, n_lag, n_seq)\n",
        "# inverse transform forecasts and test\n",
        "forecasts = inverse_transform(series, forecasts, scaler, n_test+2)\n",
        "actual = [row[n_lag:] for row in test]\n",
        "actual = inverse_transform(series, actual, scaler, n_test+2)\n",
        "# evaluate forecasts\n",
        "evaluate_forecasts(actual, forecasts, n_lag, n_seq)\n",
        "# plot forecasts\n",
        "plot_forecasts(series, forecasts, n_test+2)"
      ],
      "execution_count": 27,
      "outputs": [
        {
          "output_type": "stream",
          "text": [
            "t+1 RMSE: 123.529110\n",
            "t+2 RMSE: 86.486502\n",
            "t+3 RMSE: 100.075402\n"
          ],
          "name": "stdout"
        },
        {
          "output_type": "display_data",
          "data": {
            "image/png": "[encoded data removed]",
            "text/plain": [
              "<Figure size 432x288 with 1 Axes>"
            ]
          },
          "metadata": {
            "tags": [],
            "needs_background": "light"
          }
        }
      ]
    }
  ]
}